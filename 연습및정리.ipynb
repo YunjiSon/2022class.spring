{
  "nbformat": 4,
  "nbformat_minor": 0,
  "metadata": {
    "colab": {
      "name": "연습및정리.ipynb",
      "provenance": [],
      "authorship_tag": "ABX9TyO6rcre9SpZJveN90OtEBOC",
      "include_colab_link": true
    },
    "kernelspec": {
      "name": "python3",
      "display_name": "Python 3"
    },
    "language_info": {
      "name": "python"
    }
  },
  "cells": [
    {
      "cell_type": "markdown",
      "metadata": {
        "id": "view-in-github",
        "colab_type": "text"
      },
      "source": [
        "<a href=\"https://colab.research.google.com/github/YunjiSon/2022spring/blob/main/%EC%97%B0%EC%8A%B5%EB%B0%8F%EC%A0%95%EB%A6%AC.ipynb\" target=\"_parent\"><img src=\"https://colab.research.google.com/assets/colab-badge.svg\" alt=\"Open In Colab\"/></a>"
      ]
    },
    {
      "cell_type": "markdown",
      "source": [
        "1. 변수 -variable (string/numbers)\n",
        "2. 문법 (조건 if/ 반복 for) -syntax\n",
        "3. 함수 - function\n",
        "4. 패키지 (library) -package >import\n",
        "-numpy : 행렬화, 구조화 할때 쓰는 숫자\n",
        "-pandas: 엑셀처리하는 거\n",
        "-matplotlib \n",
        "-seaborn: 비주얼라이징 해줌\n",
        "-scikit-learn: 머신러닝\n",
        "-requests: 웹상에서 리퀘스트 하는 것\n",
        "-urllib3: url 쓰는거. 크롤링할 때 얘랑 위에랑 중요함\n",
        "-NLTK: 텍스트처리하는 그런거\n",
        "-pillow: 이미지 불러오고 처리하는 거\n",
        "-libross: sound 입출력하는 그런거\n",
        "\n"
      ],
      "metadata": {
        "id": "5DKmRFY-o4wb"
      }
    },
    {
      "cell_type": "markdown",
      "source": [
        "words는 문자랑 의미(contents)를 가지고 있어야함. \n",
        "programing lang도 variables이랑 내용이 잇음. \n",
        "이 word 조합하는 방식 syntax. (조건문, 반복문)\n"
      ],
      "metadata": {
        "id": "xBoos6aGqqjY"
      }
    },
    {
      "cell_type": "markdown",
      "source": [
        "셀을 잘 나누는 것도 능력임"
      ],
      "metadata": {
        "id": "KzH0MLg5reQZ"
      }
    },
    {
      "cell_type": "code",
      "execution_count": 2,
      "metadata": {
        "colab": {
          "base_uri": "https://localhost:8080/"
        },
        "id": "2hviwOlOomgP",
        "outputId": "f4f4f45e-9bed-42ea-a432-8d1c49749761"
      },
      "outputs": [
        {
          "output_type": "stream",
          "name": "stdout",
          "text": [
            "<class 'int'>\n",
            "1\n"
          ]
        }
      ],
      "source": [
        " a = 1; print(type(a)) ; print(a)"
      ]
    },
    {
      "cell_type": "code",
      "source": [
        "b = 2 #int 즉, 정수라는 뜻. \n",
        "b"
      ],
      "metadata": {
        "id": "PiPmT-TkuasW"
      },
      "execution_count": null,
      "outputs": []
    },
    {
      "cell_type": "code",
      "source": [
        "a = 1.1; print(type(a)) #float는 실수 1.0 적어도 float로 나옴"
      ],
      "metadata": {
        "colab": {
          "base_uri": "https://localhost:8080/"
        },
        "id": "q7XhEclHvsl-",
        "outputId": "2255f20a-4b21-4885-b2f1-70852a68af2f"
      },
      "execution_count": 18,
      "outputs": [
        {
          "output_type": "stream",
          "name": "stdout",
          "text": [
            "<class 'float'>\n"
          ]
        }
      ]
    },
    {
      "cell_type": "code",
      "source": [
        "a = '123'; print(type(a)); print(a[1]) #왼쪽에 나중에 shape에 글자 갯수도 뜸."
      ],
      "metadata": {
        "colab": {
          "base_uri": "https://localhost:8080/"
        },
        "id": "IVN5yG60xHiJ",
        "outputId": "b772225e-f2c7-4d5d-b789-c9d033977f03"
      },
      "execution_count": 19,
      "outputs": [
        {
          "output_type": "stream",
          "name": "stdout",
          "text": [
            "<class 'str'>\n",
            "2\n"
          ]
        }
      ]
    },
    {
      "cell_type": "code",
      "source": [
        "a = [1,2,3,4]; print(type(a)); print(a[0]) #리스트는 대괄호에 넣어야함."
      ],
      "metadata": {
        "colab": {
          "base_uri": "https://localhost:8080/"
        },
        "id": "o24PAHSWxX91",
        "outputId": "e5d7fb3c-23c9-4d1d-e757-48553dbc5b3a"
      },
      "execution_count": 24,
      "outputs": [
        {
          "output_type": "stream",
          "name": "stdout",
          "text": [
            "<class 'list'>\n",
            "1\n"
          ]
        }
      ]
    },
    {
      "cell_type": "code",
      "source": [
        "a = [1, 'a', [3, '4']]; print(type(a)); print(a[0]); print(a[1]); print(a[2])\n",
        "print(a[2][1]) #리스트는 무조건 0번째부터 시작함"
      ],
      "metadata": {
        "colab": {
          "base_uri": "https://localhost:8080/"
        },
        "id": "fPL2VlsOyFhb",
        "outputId": "0ebf8bf0-683a-48b0-8d52-525da00c5fc1"
      },
      "execution_count": 25,
      "outputs": [
        {
          "output_type": "stream",
          "name": "stdout",
          "text": [
            "<class 'list'>\n",
            "1\n",
            "a\n",
            "[3, '4']\n",
            "4\n"
          ]
        }
      ]
    }
  ]
}