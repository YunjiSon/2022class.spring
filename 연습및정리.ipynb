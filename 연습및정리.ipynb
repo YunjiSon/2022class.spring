{
  "nbformat": 4,
  "nbformat_minor": 0,
  "metadata": {
    "colab": {
      "name": "연습및정리.ipynb",
      "provenance": [],
      "authorship_tag": "ABX9TyOYoFKrZUvdyli+lnlAO6Jo",
      "include_colab_link": true
    },
    "kernelspec": {
      "name": "python3",
      "display_name": "Python 3"
    },
    "language_info": {
      "name": "python"
    }
  },
  "cells": [
    {
      "cell_type": "markdown",
      "metadata": {
        "id": "view-in-github",
        "colab_type": "text"
      },
      "source": [
        "<a href=\"https://colab.research.google.com/github/YunjiSon/2022spring/blob/main/%EC%97%B0%EC%8A%B5%EB%B0%8F%EC%A0%95%EB%A6%AC.ipynb\" target=\"_parent\"><img src=\"https://colab.research.google.com/assets/colab-badge.svg\" alt=\"Open In Colab\"/></a>"
      ]
    },
    {
      "cell_type": "markdown",
      "source": [
        "1. 변수 -variable (string/numbers)\n",
        "2. 문법 (조건 if/ 반복 for) -syntax\n",
        "3. 함수 - function\n",
        "4. 패키지 (library) -package >import\n",
        "-numpy : 행렬화, 구조화 할때 쓰는 숫자\n",
        "-pandas: 엑셀처리하는 거\n",
        "-matplotlib \n",
        "-seaborn: 비주얼라이징 해줌\n",
        "-scikit-learn: 머신러닝\n",
        "-requests: 웹상에서 리퀘스트 하는 것\n",
        "-urllib3: url 쓰는거. 크롤링할 때 얘랑 위에랑 중요함\n",
        "-NLTK: 텍스트처리하는 그런거\n",
        "-pillow: 이미지 불러오고 처리하는 거\n",
        "-libross: sound 입출력하는 그런거\n",
        "\n"
      ],
      "metadata": {
        "id": "5DKmRFY-o4wb"
      }
    },
    {
      "cell_type": "markdown",
      "source": [
        "words는 문자랑 의미(contents)를 가지고 있어야함. \n",
        "programing lang도 variables이랑 내용이 잇음. \n",
        "이 word 조합하는 방식 syntax. (조건문, 반복문)\n"
      ],
      "metadata": {
        "id": "xBoos6aGqqjY"
      }
    },
    {
      "cell_type": "markdown",
      "source": [
        "셀을 잘 나누는 것도 능력임"
      ],
      "metadata": {
        "id": "KzH0MLg5reQZ"
      }
    },
    {
      "cell_type": "code",
      "execution_count": null,
      "metadata": {
        "colab": {
          "base_uri": "https://localhost:8080/"
        },
        "id": "2hviwOlOomgP",
        "outputId": "f4f4f45e-9bed-42ea-a432-8d1c49749761"
      },
      "outputs": [
        {
          "output_type": "stream",
          "name": "stdout",
          "text": [
            "<class 'int'>\n",
            "1\n"
          ]
        }
      ],
      "source": [
        " a = 1; print(type(a)) ; print(a)"
      ]
    },
    {
      "cell_type": "code",
      "source": [
        "b = 2 #int 즉, 정수라는 뜻. \n",
        "b"
      ],
      "metadata": {
        "id": "PiPmT-TkuasW"
      },
      "execution_count": null,
      "outputs": []
    },
    {
      "cell_type": "code",
      "source": [
        "a = 1.1; print(type(a)) #float는 실수 1.0 적어도 float로 나옴"
      ],
      "metadata": {
        "colab": {
          "base_uri": "https://localhost:8080/"
        },
        "id": "q7XhEclHvsl-",
        "outputId": "2255f20a-4b21-4885-b2f1-70852a68af2f"
      },
      "execution_count": null,
      "outputs": [
        {
          "output_type": "stream",
          "name": "stdout",
          "text": [
            "<class 'float'>\n"
          ]
        }
      ]
    },
    {
      "cell_type": "code",
      "source": [
        "a = '123'; print(type(a)); print(a[1]) #왼쪽에 나중에 shape에 글자 갯수도 뜸."
      ],
      "metadata": {
        "colab": {
          "base_uri": "https://localhost:8080/"
        },
        "id": "IVN5yG60xHiJ",
        "outputId": "b772225e-f2c7-4d5d-b789-c9d033977f03"
      },
      "execution_count": null,
      "outputs": [
        {
          "output_type": "stream",
          "name": "stdout",
          "text": [
            "<class 'str'>\n",
            "2\n"
          ]
        }
      ]
    },
    {
      "cell_type": "code",
      "source": [
        "a = [1,2,3,4]; print(type(a)); print(a[0]) #리스트는 대괄호에 넣어야함."
      ],
      "metadata": {
        "colab": {
          "base_uri": "https://localhost:8080/"
        },
        "id": "o24PAHSWxX91",
        "outputId": "652404d0-fa82-478b-fce3-c33e516fae00"
      },
      "execution_count": 4,
      "outputs": [
        {
          "output_type": "stream",
          "name": "stdout",
          "text": [
            "<class 'list'>\n",
            "1\n"
          ]
        }
      ]
    },
    {
      "cell_type": "code",
      "source": [
        "a = [1, 'a', [3, '4']]; print(type(a)); print(a[0]); print(a[1]); print(a[2])\n",
        "print(a[2][1]) #리스트는 무조건 0번째부터 시작함\n",
        "#a 리스트의 아이템은 숫자, 문자, 리스트로 구성되어 있음."
      ],
      "metadata": {
        "colab": {
          "base_uri": "https://localhost:8080/"
        },
        "id": "fPL2VlsOyFhb",
        "outputId": "9f3f56cb-8dd2-4b1c-b016-eb4f0b9223d8"
      },
      "execution_count": 2,
      "outputs": [
        {
          "output_type": "stream",
          "name": "stdout",
          "text": [
            "<class 'list'>\n",
            "1\n",
            "a\n",
            "[3, '4']\n",
            "4\n"
          ]
        }
      ]
    },
    {
      "cell_type": "code",
      "source": [
        "a[1:3] #뒤에 들어가는 숫자는 포함하지 않음. 즉, a=[1,2,3,4]에서 a[1:2]하면 2는 잡히지 않음. 즉 a[1]이랑 같은것."
      ],
      "metadata": {
        "colab": {
          "base_uri": "https://localhost:8080/"
        },
        "id": "4iA_oioYFCaz",
        "outputId": "64e0e273-b615-48dd-94fd-a94cde9521e1"
      },
      "execution_count": 6,
      "outputs": [
        {
          "output_type": "execute_result",
          "data": {
            "text/plain": [
              "[2, 3]"
            ]
          },
          "metadata": {},
          "execution_count": 6
        }
      ]
    },
    {
      "cell_type": "code",
      "source": [
        "a[:] #이렇게 하면 전체 다 나옴. 그리고 [2:]하면 2번째부터 끝까지 나옴."
      ],
      "metadata": {
        "colab": {
          "base_uri": "https://localhost:8080/"
        },
        "id": "6zXNNzceF6Ga",
        "outputId": "25df8410-3d8b-4871-bad1-e99c8af9734a"
      },
      "execution_count": 7,
      "outputs": [
        {
          "output_type": "execute_result",
          "data": {
            "text/plain": [
              "[1, 2, 3, 4]"
            ]
          },
          "metadata": {},
          "execution_count": 7
        }
      ]
    },
    {
      "cell_type": "code",
      "source": [
        "a[1:-1] #이렇게 하면 끝에서 하나 전것까지 나옴. 왜냐하면 첫번째거를 기준으로 다시 뒤쪽은 -1이 되니까\n",
        "그니까 [1,2,3,4] 있으면 4가 -1이 되고 그런거임."
      ],
      "metadata": {
        "colab": {
          "base_uri": "https://localhost:8080/"
        },
        "id": "Nk-Gc5PQGWuB",
        "outputId": "0c9b4442-a58e-4140-c504-302a19ebe586"
      },
      "execution_count": 9,
      "outputs": [
        {
          "output_type": "execute_result",
          "data": {
            "text/plain": [
              "[2, 3]"
            ]
          },
          "metadata": {},
          "execution_count": 9
        }
      ]
    },
    {
      "cell_type": "code",
      "source": [
        "a = [1, 'a', [1,'b']]"
      ],
      "metadata": {
        "id": "PKGUHSDDHToz"
      },
      "execution_count": 10,
      "outputs": []
    },
    {
      "cell_type": "code",
      "source": [
        "print(a[2][1]) #두번째(리스트)의 1번째 \n",
        "print(a[1][0])\n",
        "a[1][0]"
      ],
      "metadata": {
        "colab": {
          "base_uri": "https://localhost:8080/",
          "height": 73
        },
        "id": "xySuDz5GHZCT",
        "outputId": "d457914f-e39f-4655-ea52-ff50d235e8a4"
      },
      "execution_count": 21,
      "outputs": [
        {
          "output_type": "stream",
          "name": "stdout",
          "text": [
            "b\n",
            "a\n"
          ]
        },
        {
          "output_type": "execute_result",
          "data": {
            "text/plain": [
              "'a'"
            ],
            "application/vnd.google.colaboratory.intrinsic+json": {
              "type": "string"
            }
          },
          "metadata": {},
          "execution_count": 21
        }
      ]
    },
    {
      "cell_type": "code",
      "source": [
        "a='abcdef123' #인덱싱하는 방법. \n",
        "a[3:-1]"
      ],
      "metadata": {
        "colab": {
          "base_uri": "https://localhost:8080/",
          "height": 36
        },
        "id": "6hppKUV2IoNI",
        "outputId": "6971997e-49a2-42c7-c299-39c1e8033977"
      },
      "execution_count": 25,
      "outputs": [
        {
          "output_type": "execute_result",
          "data": {
            "text/plain": [
              "'def12'"
            ],
            "application/vnd.google.colaboratory.intrinsic+json": {
              "type": "string"
            }
          },
          "metadata": {},
          "execution_count": 25
        }
      ]
    },
    {
      "cell_type": "code",
      "source": [
        "print(type(a[3:-1]))"
      ],
      "metadata": {
        "colab": {
          "base_uri": "https://localhost:8080/"
        },
        "id": "uAoD3l6NMcCv",
        "outputId": "5c41ecc2-152b-4b35-8a84-86a123a78976"
      },
      "execution_count": 27,
      "outputs": [
        {
          "output_type": "stream",
          "name": "stdout",
          "text": [
            "<class 'str'>\n"
          ]
        }
      ]
    },
    {
      "cell_type": "markdown",
      "source": [
        "list와 tuple은 거의 똑같음. 표현이 a=(1,2,3) 일 뿐"
      ],
      "metadata": {
        "id": "FVqOy_cVMUpz"
      }
    },
    {
      "cell_type": "code",
      "source": [
        "a=[1,2,3]"
      ],
      "metadata": {
        "id": "jEWMvJPFM7gj"
      },
      "execution_count": 29,
      "outputs": []
    },
    {
      "cell_type": "code",
      "source": [
        "a[1] = 0 #a의 1번째를 0으로 바꿈."
      ],
      "metadata": {
        "id": "O8JBQs_UM-ZT"
      },
      "execution_count": 30,
      "outputs": []
    },
    {
      "cell_type": "code",
      "source": [
        "print(a)"
      ],
      "metadata": {
        "colab": {
          "base_uri": "https://localhost:8080/"
        },
        "id": "TdC1i0YCNI3D",
        "outputId": "a68af4a0-f8c0-4163-a02a-1b9db31b0bd7"
      },
      "execution_count": 31,
      "outputs": [
        {
          "output_type": "stream",
          "name": "stdout",
          "text": [
            "[1, 0, 3]\n"
          ]
        }
      ]
    },
    {
      "cell_type": "markdown",
      "source": [
        "근데 위 같은 상황에서 tuple은 item을 바꿀 수 없음."
      ],
      "metadata": {
        "id": "b2LLqosXNT4Z"
      }
    },
    {
      "cell_type": "code",
      "source": [
        "print(a[1]+a[2])"
      ],
      "metadata": {
        "colab": {
          "base_uri": "https://localhost:8080/"
        },
        "id": "xg87HhirNmGp",
        "outputId": "3784169b-bd60-4480-99c0-24d495ea6d49"
      },
      "execution_count": 32,
      "outputs": [
        {
          "output_type": "stream",
          "name": "stdout",
          "text": [
            "3\n"
          ]
        }
      ]
    },
    {
      "cell_type": "code",
      "source": [
        ""
      ],
      "metadata": {
        "id": "lxSPZUHAOmPS"
      },
      "execution_count": null,
      "outputs": []
    },
    {
      "cell_type": "code",
      "source": [
        "a = {\"a\": \"apple\", \"b\": \"orange\", \"c\": 2014} #quote안하는 건 그냥 변수로 처리되는 거라 안됨.\n",
        "#키에 숫자가 오는 건 상관 없음.\n",
        "#리스트는 나열. dictionary는 키와 value로 구성되어있음. "
      ],
      "metadata": {
        "id": "bBAJzoBLN1tJ"
      },
      "execution_count": 33,
      "outputs": []
    },
    {
      "cell_type": "code",
      "source": [
        "a[\"a\"] #string으로 single quote로 해도 상관 없음."
      ],
      "metadata": {
        "colab": {
          "base_uri": "https://localhost:8080/",
          "height": 36
        },
        "id": "aIPDHSauOS2n",
        "outputId": "f7d1a687-ba3d-4529-cae8-a59987633768"
      },
      "execution_count": 35,
      "outputs": [
        {
          "output_type": "execute_result",
          "data": {
            "text/plain": [
              "'apple'"
            ],
            "application/vnd.google.colaboratory.intrinsic+json": {
              "type": "string"
            }
          },
          "metadata": {},
          "execution_count": 35
        }
      ]
    },
    {
      "cell_type": "code",
      "source": [
        "print(type(a)); print(a[\"b\"])"
      ],
      "metadata": {
        "colab": {
          "base_uri": "https://localhost:8080/"
        },
        "id": "SC3cjSnLO9Xp",
        "outputId": "9e6d3095-ad11-435e-bcfc-7e4ff5d72df8"
      },
      "execution_count": 37,
      "outputs": [
        {
          "output_type": "stream",
          "name": "stdout",
          "text": [
            "<class 'dict'>\n",
            "orange\n"
          ]
        }
      ]
    }
  ]
}