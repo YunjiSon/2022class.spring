{
  "nbformat": 4,
  "nbformat_minor": 0,
  "metadata": {
    "colab": {
      "name": "import.ipynb",
      "provenance": [],
      "authorship_tag": "ABX9TyOZ8ZiaCbT7arjMFo0loZuD",
      "include_colab_link": true
    },
    "kernelspec": {
      "name": "python3",
      "display_name": "Python 3"
    },
    "language_info": {
      "name": "python"
    }
  },
  "cells": [
    {
      "cell_type": "markdown",
      "metadata": {
        "id": "view-in-github",
        "colab_type": "text"
      },
      "source": [
        "<a href=\"https://colab.research.google.com/github/YunjiSon/2022spring/blob/main/import.ipynb\" target=\"_parent\"><img src=\"https://colab.research.google.com/assets/colab-badge.svg\" alt=\"Open In Colab\"/></a>"
      ]
    },
    {
      "cell_type": "code",
      "execution_count": 1,
      "metadata": {
        "id": "UanWf6ifzevQ"
      },
      "outputs": [],
      "source": [
        "import numpy"
      ]
    },
    {
      "cell_type": "code",
      "source": [
        "numpy.random.randn(5) #random이라는 폴더 안에 있는 rand이라는 function 쓰기. 랜덤한 한 넘버 5개 \n",
        "#계속 바뀜"
      ],
      "metadata": {
        "colab": {
          "base_uri": "https://localhost:8080/"
        },
        "id": "AIzaflYpzshL",
        "outputId": "0714e43d-607f-4507-8607-7abc8df70b7b"
      },
      "execution_count": 3,
      "outputs": [
        {
          "output_type": "execute_result",
          "data": {
            "text/plain": [
              "array([ 0.83437661,  1.39734585, -0.54389095,  1.09358319, -0.80420784])"
            ]
          },
          "metadata": {},
          "execution_count": 3
        }
      ]
    },
    {
      "cell_type": "code",
      "source": [
        "import numpy as np\n",
        "n = np.random.randn(100)"
      ],
      "metadata": {
        "id": "tFWda1xCzqvu"
      },
      "execution_count": 4,
      "outputs": []
    },
    {
      "cell_type": "code",
      "source": [
        "import matplotlib #plotting 즉 visualizing 해주는 package.\n",
        "matplotlib.pyplot.hist(n) #힌스토그램\n",
        "#저 randn이 0을 평균값으로 하는거라서 이렇게 나온 거임. "
      ],
      "metadata": {
        "colab": {
          "base_uri": "https://localhost:8080/",
          "height": 359
        },
        "id": "fQD3QLGx0PB3",
        "outputId": "e6ff4f1b-3bfd-493e-b384-92ffa2157548"
      },
      "execution_count": 5,
      "outputs": [
        {
          "output_type": "execute_result",
          "data": {
            "text/plain": [
              "(array([ 1.,  1.,  3., 17., 21., 35., 15.,  6.,  0.,  1.]),\n",
              " array([-3.22720277, -2.59550956, -1.96381634, -1.33212313, -0.70042992,\n",
              "        -0.0687367 ,  0.56295651,  1.19464972,  1.82634294,  2.45803615,\n",
              "         3.08972937]),\n",
              " <a list of 10 Patch objects>)"
            ]
          },
          "metadata": {},
          "execution_count": 5
        },
        {
          "output_type": "display_data",
          "data": {
            "text/plain": [
              "<Figure size 432x288 with 1 Axes>"
            ],
            "image/png": "[encoded data removed]"
          },
          "metadata": {
            "needs_background": "light"
          }
        }
      ]
    },
    {
      "cell_type": "code",
      "source": [
        "import matplotlib.pyplot\n",
        "matplotlib.pyplot.hist(n)"
      ],
      "metadata": {
        "colab": {
          "base_uri": "https://localhost:8080/",
          "height": 359
        },
        "id": "voOnHR6G1BHV",
        "outputId": "589ade09-9626-49ad-c426-31f2924483a8"
      },
      "execution_count": 6,
      "outputs": [
        {
          "output_type": "execute_result",
          "data": {
            "text/plain": [
              "(array([ 1.,  1.,  3., 17., 21., 35., 15.,  6.,  0.,  1.]),\n",
              " array([-3.22720277, -2.59550956, -1.96381634, -1.33212313, -0.70042992,\n",
              "        -0.0687367 ,  0.56295651,  1.19464972,  1.82634294,  2.45803615,\n",
              "         3.08972937]),\n",
              " <a list of 10 Patch objects>)"
            ]
          },
          "metadata": {},
          "execution_count": 6
        },
        {
          "output_type": "display_data",
          "data": {
            "text/plain": [
              "<Figure size 432x288 with 1 Axes>"
            ],
            "image/png": "[encoded data removed]"
          },
          "metadata": {
            "needs_background": "light"
          }
        }
      ]
    },
    {
      "cell_type": "markdown",
      "source": [
        ""
      ],
      "metadata": {
        "id": "Jl7Pop9e1N7d"
      }
    },
    {
      "cell_type": "code",
      "source": [
        "import matplotlib.pyplot as plt\n",
        "plt.hist(n)"
      ],
      "metadata": {
        "colab": {
          "base_uri": "https://localhost:8080/",
          "height": 359
        },
        "id": "gPbizJ3g1JQL",
        "outputId": "e15ce7c6-b662-405d-ca63-c60d7b2a802b"
      },
      "execution_count": 7,
      "outputs": [
        {
          "output_type": "execute_result",
          "data": {
            "text/plain": [
              "(array([ 1.,  1.,  3., 17., 21., 35., 15.,  6.,  0.,  1.]),\n",
              " array([-3.22720277, -2.59550956, -1.96381634, -1.33212313, -0.70042992,\n",
              "        -0.0687367 ,  0.56295651,  1.19464972,  1.82634294,  2.45803615,\n",
              "         3.08972937]),\n",
              " <a list of 10 Patch objects>)"
            ]
          },
          "metadata": {},
          "execution_count": 7
        },
        {
          "output_type": "display_data",
          "data": {
            "text/plain": [
              "<Figure size 432x288 with 1 Axes>"
            ],
            "image/png": "[encoded data removed]"
          },
          "metadata": {
            "needs_background": "light"
          }
        }
      ]
    },
    {
      "cell_type": "code",
      "source": [
        "from matplotlib import pyplot\n",
        "pyplot.hist(n)"
      ],
      "metadata": {
        "colab": {
          "base_uri": "https://localhost:8080/",
          "height": 359
        },
        "id": "ACm3jBy21PjZ",
        "outputId": "0b586bf4-bfcc-4def-c363-f2a196110a8b"
      },
      "execution_count": 8,
      "outputs": [
        {
          "output_type": "execute_result",
          "data": {
            "text/plain": [
              "(array([ 1.,  1.,  3., 17., 21., 35., 15.,  6.,  0.,  1.]),\n",
              " array([-3.22720277, -2.59550956, -1.96381634, -1.33212313, -0.70042992,\n",
              "        -0.0687367 ,  0.56295651,  1.19464972,  1.82634294,  2.45803615,\n",
              "         3.08972937]),\n",
              " <a list of 10 Patch objects>)"
            ]
          },
          "metadata": {},
          "execution_count": 8
        },
        {
          "output_type": "display_data",
          "data": {
            "text/plain": [
              "<Figure size 432x288 with 1 Axes>"
            ],
            "image/png": "[encoded data removed]"
          },
          "metadata": {
            "needs_background": "light"
          }
        }
      ]
    },
    {
      "cell_type": "code",
      "source": [
        "from matplotlib.pyplot import hist\n",
        "hist(n)"
      ],
      "metadata": {
        "colab": {
          "base_uri": "https://localhost:8080/",
          "height": 359
        },
        "id": "Mankn7uc1V8D",
        "outputId": "e44418e4-9cf2-48c1-f8a6-d43e6abb4803"
      },
      "execution_count": 9,
      "outputs": [
        {
          "output_type": "execute_result",
          "data": {
            "text/plain": [
              "(array([ 1.,  1.,  3., 17., 21., 35., 15.,  6.,  0.,  1.]),\n",
              " array([-3.22720277, -2.59550956, -1.96381634, -1.33212313, -0.70042992,\n",
              "        -0.0687367 ,  0.56295651,  1.19464972,  1.82634294,  2.45803615,\n",
              "         3.08972937]),\n",
              " <a list of 10 Patch objects>)"
            ]
          },
          "metadata": {},
          "execution_count": 9
        },
        {
          "output_type": "display_data",
          "data": {
            "text/plain": [
              "<Figure size 432x288 with 1 Axes>"
            ],
            "image/png": "[encoded data removed]"
          },
          "metadata": {
            "needs_background": "light"
          }
        }
      ]
    },
    {
      "cell_type": "markdown",
      "source": [
        "create nd array"
      ],
      "metadata": {
        "id": "1IrojC990THH"
      }
    },
    {
      "cell_type": "code",
      "source": [
        "import numpy as np"
      ],
      "metadata": {
        "id": "usqxJFy51yFO"
      },
      "execution_count": 10,
      "outputs": []
    },
    {
      "cell_type": "code",
      "source": [
        "x = np.array([1,2,3]) #직사각형 형태의 숫자 배열 \n",
        "#한줄짜리는 1darray, 두개짜리는 2d 뭐 이렇게\n",
        "#list는 계산될 수 없다 그래서 list를 array로 바꿔줘야 함.\n",
        "print(x)\n",
        "print(type(x)) #class는 numpy 의 특수한 변수인데. 암튼 그게 n차원의 array다 뭐 이런 뜻.\n",
        "print(x.shape) #(3,) 이거는 1d array라는 뜻."
      ],
      "metadata": {
        "colab": {
          "base_uri": "https://localhost:8080/"
        },
        "id": "ImYRXCWY17u_",
        "outputId": "8737bbf4-08b0-4ef9-85f3-b2f985415a41"
      },
      "execution_count": 11,
      "outputs": [
        {
          "output_type": "stream",
          "name": "stdout",
          "text": [
            "[1 2 3]\n",
            "<class 'numpy.ndarray'>\n",
            "(3,)\n"
          ]
        }
      ]
    },
    {
      "cell_type": "code",
      "source": [
        "x=np.arange(0,10,2) #0부터 10까지 2만큼 증가한다. (increment) 10은 포함 안됨.\n",
        "print(x)\n",
        "print(type(x))\n",
        "print(x.shape)"
      ],
      "metadata": {
        "colab": {
          "base_uri": "https://localhost:8080/"
        },
        "id": "fglYQktY2rwA",
        "outputId": "f45ab11c-9bac-4636-e6fb-a523d791bf1c"
      },
      "execution_count": 12,
      "outputs": [
        {
          "output_type": "stream",
          "name": "stdout",
          "text": [
            "[0 2 4 6 8]\n",
            "<class 'numpy.ndarray'>\n",
            "(5,)\n"
          ]
        }
      ]
    },
    {
      "cell_type": "markdown",
      "source": [
        ""
      ],
      "metadata": {
        "id": "9RCveeVc3FPv"
      }
    },
    {
      "cell_type": "code",
      "source": [
        "x = np.linspace(0,10,6) #linear space라는 뜻 0부터 10까지 등분해서 6개의 숫자를 만들어라\n",
        "print(x)\n",
        "print(type(x))\n",
        "print(x.shape)"
      ],
      "metadata": {
        "colab": {
          "base_uri": "https://localhost:8080/"
        },
        "id": "cZJiL0PR2-4J",
        "outputId": "01d49ea8-2096-4cad-ab46-dbe44c89689d"
      },
      "execution_count": 14,
      "outputs": [
        {
          "output_type": "stream",
          "name": "stdout",
          "text": [
            "[ 0.  2.  4.  6.  8. 10.]\n",
            "<class 'numpy.ndarray'>\n",
            "(6,)\n"
          ]
        }
      ]
    },
    {
      "cell_type": "markdown",
      "source": [
        ""
      ],
      "metadata": {
        "id": "oZqnOpX23k4x"
      }
    },
    {
      "cell_type": "code",
      "source": [
        "x = np.array([[1,2,3], [4,5,6]]) #list자체를 또 list로 만들어줘야함. \n",
        "print(x)\n",
        "print(type(x))\n",
        "print(x.shape) #행과 열."
      ],
      "metadata": {
        "colab": {
          "base_uri": "https://localhost:8080/"
        },
        "id": "z0TL2OJe3Zcc",
        "outputId": "2390a484-9d72-4dde-b42a-15b263ccbfd3"
      },
      "execution_count": 16,
      "outputs": [
        {
          "output_type": "stream",
          "name": "stdout",
          "text": [
            "[[1 2 3]\n",
            " [4 5 6]]\n",
            "<class 'numpy.ndarray'>\n",
            "(2, 3)\n"
          ]
        }
      ]
    },
    {
      "cell_type": "code",
      "source": [
        "x = np.array([[[1,2,3], [4,5,6]], [[7,8,9], [10,11,12]]]) #몇차원인지 보려면 대괄호의 갯수.\n",
        "print(x)\n",
        "print(type(x))\n",
        "print(x.shape) #제일 끝에 거가 제일 작은 단위임"
      ],
      "metadata": {
        "colab": {
          "base_uri": "https://localhost:8080/"
        },
        "id": "O67iZzjI4HrS",
        "outputId": "dfe36abe-89c2-4d27-d2b7-e9ab4955daa5"
      },
      "execution_count": 17,
      "outputs": [
        {
          "output_type": "stream",
          "name": "stdout",
          "text": [
            "[[[ 1  2  3]\n",
            "  [ 4  5  6]]\n",
            "\n",
            " [[ 7  8  9]\n",
            "  [10 11 12]]]\n",
            "<class 'numpy.ndarray'>\n",
            "(2, 2, 3)\n"
          ]
        }
      ]
    },
    {
      "cell_type": "code",
      "source": [
        "x=np.array([2,2,3])\n",
        "x"
      ],
      "metadata": {
        "colab": {
          "base_uri": "https://localhost:8080/"
        },
        "id": "8mN3-Iql4gaM",
        "outputId": "875c90ea-bcee-4415-a94a-c544639c4a58"
      },
      "execution_count": 18,
      "outputs": [
        {
          "output_type": "execute_result",
          "data": {
            "text/plain": [
              "array([2, 2, 3])"
            ]
          },
          "metadata": {},
          "execution_count": 18
        }
      ]
    },
    {
      "cell_type": "code",
      "source": [
        "x = np.ones([2, 2, 3]) \n",
        "print(x)\n",
        "print(type(x))\n",
        "print(x.shape)"
      ],
      "metadata": {
        "colab": {
          "base_uri": "https://localhost:8080/"
        },
        "id": "gM9mgh5n4cYU",
        "outputId": "66bd62b3-9cea-46dc-d01a-61e4ae995f91"
      },
      "execution_count": 19,
      "outputs": [
        {
          "output_type": "stream",
          "name": "stdout",
          "text": [
            "[[[1. 1. 1.]\n",
            "  [1. 1. 1.]]\n",
            "\n",
            " [[1. 1. 1.]\n",
            "  [1. 1. 1.]]]\n",
            "<class 'numpy.ndarray'>\n",
            "(2, 2, 3)\n"
          ]
        }
      ]
    },
    {
      "cell_type": "code",
      "source": [
        "x = np.zeros([2, 2, 3])\n",
        "print(x)\n",
        "print(type(x))\n",
        "print(x.shape)\n",
        "x.reshape(3,2,2) #총 갯수 똑같아야 함."
      ],
      "metadata": {
        "colab": {
          "base_uri": "https://localhost:8080/"
        },
        "id": "N3kSGsuI4rBq",
        "outputId": "95e47c7d-7b00-46bd-c892-ae28fd55e6fb"
      },
      "execution_count": 20,
      "outputs": [
        {
          "output_type": "stream",
          "name": "stdout",
          "text": [
            "[[[0. 0. 0.]\n",
            "  [0. 0. 0.]]\n",
            "\n",
            " [[0. 0. 0.]\n",
            "  [0. 0. 0.]]]\n",
            "<class 'numpy.ndarray'>\n",
            "(2, 2, 3)\n"
          ]
        },
        {
          "output_type": "execute_result",
          "data": {
            "text/plain": [
              "array([[[0., 0.],\n",
              "        [0., 0.]],\n",
              "\n",
              "       [[0., 0.],\n",
              "        [0., 0.]],\n",
              "\n",
              "       [[0., 0.],\n",
              "        [0., 0.]]])"
            ]
          },
          "metadata": {},
          "execution_count": 20
        }
      ]
    },
    {
      "cell_type": "code",
      "source": [
        "#create random numbers\n",
        "np.random.normal(0, 1, [2,3,4]) #mean 값, standard deviation 하고 2by 3by four 의 nd array를 만들어라."
      ],
      "metadata": {
        "colab": {
          "base_uri": "https://localhost:8080/"
        },
        "id": "x9pVI1Nw4cSV",
        "outputId": "d05c9810-efb3-4be3-d4d2-d4ce9d01e310"
      },
      "execution_count": 21,
      "outputs": [
        {
          "output_type": "execute_result",
          "data": {
            "text/plain": [
              "array([[[ 0.22749371,  0.24408276, -0.09315922,  0.55512055],\n",
              "        [-0.93051252,  1.15710418, -0.29882181, -1.13722285],\n",
              "        [ 0.05765055, -1.66638226, -1.20448088, -0.27944708]],\n",
              "\n",
              "       [[-1.383022  , -0.91194596, -0.30175534, -0.93232323],\n",
              "        [ 1.89029488, -0.51889227, -0.91063453,  1.0779889 ],\n",
              "        [-2.5477747 , -0.80924025,  0.15079602, -0.99188645]]])"
            ]
          },
          "metadata": {},
          "execution_count": 21
        }
      ]
    },
    {
      "cell_type": "code",
      "source": [
        "import matplotlib.pyplot as plt"
      ],
      "metadata": {
        "id": "M9QVYKiw5Kwf"
      },
      "execution_count": 22,
      "outputs": []
    },
    {
      "cell_type": "code",
      "source": [
        "x = np.random.normal(0, 1, 100) #얘는 그냥 1차원\n",
        "print(x)\n",
        "plt.hist(x, bins=10)"
      ],
      "metadata": {
        "colab": {
          "base_uri": "https://localhost:8080/",
          "height": 676
        },
        "id": "ntEyslKj48b-",
        "outputId": "4c28759f-76e2-4837-b16d-1d67b539ae18"
      },
      "execution_count": 23,
      "outputs": [
        {
          "output_type": "stream",
          "name": "stdout",
          "text": [
            "[-0.87784562  0.28622843 -0.9327834  -0.2555718   1.29775526  1.06548272\n",
            "  0.59797442 -1.79844193  1.20542625 -0.02237234  0.79570708 -0.15834594\n",
            "  2.36740624  1.09626839 -0.84880952 -0.19254071  0.00499719  1.02642552\n",
            "  0.42094327 -1.24011692  1.57817944  0.40306742 -0.79457624 -1.65830256\n",
            "  0.41367779 -0.09484994  0.17951835 -1.19603961 -1.00699597 -0.42791531\n",
            "  0.37583741 -0.0494576  -0.1004938  -1.83054915 -0.32817638 -0.48276434\n",
            "  1.07935106 -0.30831133  0.29163433  1.54676075  1.75337706  1.2197725\n",
            " -0.70256825 -0.52343968 -0.6429832   1.33925957 -1.46906366  0.42063369\n",
            "  0.09206174 -0.90676073 -0.5315391   0.17790132  0.83553765  0.36845613\n",
            "  2.14830017 -1.27819753  0.10283284 -0.82626214  0.7377207   0.507186\n",
            " -0.43619243 -0.70166014 -0.25102165 -0.09180744  0.2804172   1.04686366\n",
            " -0.23837415 -0.00649502  0.47071135 -1.57017232  0.09241051  0.87191326\n",
            "  0.8339776   0.09216971 -0.30108817 -0.24813888 -0.88501976 -0.55392621\n",
            "  0.22605675 -0.5533761   0.10675082 -0.39369449 -0.04885191  0.39031917\n",
            "  2.08000374  2.45792301  1.9593735  -0.70903582  0.52570501 -0.62254337\n",
            " -0.1199394  -1.07201925  0.58751643 -0.19400795  2.68928754 -0.87787837\n",
            "  0.40329587  1.01312414  0.88110427 -1.89750328]\n"
          ]
        },
        {
          "output_type": "execute_result",
          "data": {
            "text/plain": [
              "(array([ 6.,  5., 17., 18., 19., 14., 11.,  4.,  3.,  3.]),\n",
              " array([-1.89750328, -1.4388242 , -0.98014512, -0.52146603, -0.06278695,\n",
              "         0.39589213,  0.85457121,  1.3132503 ,  1.77192938,  2.23060846,\n",
              "         2.68928754]),\n",
              " <a list of 10 Patch objects>)"
            ]
          },
          "metadata": {},
          "execution_count": 23
        },
        {
          "output_type": "display_data",
          "data": {
            "text/plain": [
              "<Figure size 432x288 with 1 Axes>"
            ],
            "image/png": "[encoded data removed]"
          },
          "metadata": {
            "needs_background": "light"
          }
        }
      ]
    },
    {
      "cell_type": "markdown",
      "source": [
        "generate a sine curve"
      ],
      "metadata": {
        "id": "qsJKkkZn5otv"
      }
    },
    {
      "cell_type": "code",
      "source": [
        "plt.figure() #이런 figure을 만들기 위해서\n",
        "\n",
        "theta1 = np.linspace(0, 2*np.pi, 100) #그림에 들어갈 내용 즉, 숫자를 generate하는 것. #0부터 2파이까지 100개의 숫자를 등분해서 만들어내라\n",
        "s1 = np.sin(theta1) #여기에도 100개의 숫자가 만들어진다.\n",
        "theta2 = np.linspace(0, 2*np.pi, 100) + np.pi/2 #90도만큼을 다 더한 것.\n",
        "s2 = np.sin(theta2)\n",
        "\n",
        "plt.subplot(2, 1, 1) # (rows, columns, panel number) 두 줄로 한칸씩 그려라. 그 중에 첫번째거를 그려라.\n",
        "plt.plot(theta1, s1, '.') #x와 y값,(각각 100개의 숫자) 근데 그게 pair임. 마지막은 뭘로 그려라 이런거. \n",
        "plt.subplot(2, 1, 2) # (rows, columns, panel number)\n",
        "plt.plot(theta2, s2, '.')\n",
        "#sine 곡선을 90도 만큼 옮겨서 그린 것. "
      ],
      "metadata": {
        "colab": {
          "base_uri": "https://localhost:8080/",
          "height": 284
        },
        "id": "8e3iWKP85jZy",
        "outputId": "1e6aad56-7335-4b7b-9af9-4dcf75683a74"
      },
      "execution_count": 24,
      "outputs": [
        {
          "output_type": "execute_result",
          "data": {
            "text/plain": [
              "[<matplotlib.lines.Line2D at 0x7f644da47350>]"
            ]
          },
          "metadata": {},
          "execution_count": 24
        },
        {
          "output_type": "display_data",
          "data": {
            "text/plain": [
              "<Figure size 432x288 with 2 Axes>"
            ],
            "image/png": "[encoded data removed]"
          },
          "metadata": {
            "needs_background": "light"
          }
        }
      ]
    },
    {
      "cell_type": "code",
      "source": [
        "np.corrcoef(s1,s2) #여기서는 지금 위의 y값임. \n",
        " #한 학급에 10명 있다고 쳤을 때 영어, 수학 점수를 pair로 xy축에 그릴 수 있음. \n",
        "#얼마나 정비례한지\n",
        "#1에 가까워질수록 정비례 0에 가까울 수록 scatter\n",
        "#첫값과 끝값은 다 1이고 중간 숫자만 보면 됨.거의 지금 0이라는 소리임."
      ],
      "metadata": {
        "colab": {
          "base_uri": "https://localhost:8080/"
        },
        "id": "yLzyA2xc17Qf",
        "outputId": "a5bfca92-e468-474f-ba3e-e9f99e5d6c2a"
      },
      "execution_count": 25,
      "outputs": [
        {
          "output_type": "execute_result",
          "data": {
            "text/plain": [
              "array([[1.00000000e+00, 2.41915449e-17],\n",
              "       [2.41915449e-17, 1.00000000e+00]])"
            ]
          },
          "metadata": {},
          "execution_count": 25
        }
      ]
    }
  ]
}