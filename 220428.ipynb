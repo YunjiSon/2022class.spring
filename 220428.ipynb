{
  "nbformat": 4,
  "nbformat_minor": 0,
  "metadata": {
    "colab": {
      "name": "220428.ipynb",
      "provenance": [],
      "authorship_tag": "ABX9TyNLP4xAH1Q/T2dQgY3w+jxE",
      "include_colab_link": true
    },
    "kernelspec": {
      "name": "python3",
      "display_name": "Python 3"
    },
    "language_info": {
      "name": "python"
    }
  },
  "cells": [
    {
      "cell_type": "markdown",
      "metadata": {
        "id": "view-in-github",
        "colab_type": "text"
      },
      "source": [
        "<a href=\"https://colab.research.google.com/github/YunjiSon/2022spring/blob/main/220428.ipynb\" target=\"_parent\"><img src=\"https://colab.research.google.com/assets/colab-badge.svg\" alt=\"Open In Colab\"/></a>"
      ]
    },
    {
      "cell_type": "code",
      "execution_count": null,
      "metadata": {
        "id": "eIV5pH30mbGJ"
      },
      "outputs": [],
      "source": [
        ""
      ]
    },
    {
      "cell_type": "markdown",
      "source": [
        "autocorrelation - 두개의 다른 시간에 나타나는 신호의 상관관계"
      ],
      "metadata": {
        "id": "EJ1vzOowpbWI"
      }
    },
    {
      "cell_type": "markdown",
      "source": [
        "root mean square - 음과 양의 값이 반복되는 함수 값을 계산할 때 사용.\n",
        "원래 값의 제곱들에 대한 산술평균의 제곱근"
      ],
      "metadata": {
        "id": "TnhD9LVjqTQE"
      }
    }
  ]
}