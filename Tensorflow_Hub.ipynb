{
  "nbformat": 4,
  "nbformat_minor": 0,
  "metadata": {
    "colab": {
      "name": "Tensorflow Hub.ipynb",
      "provenance": [],
      "authorship_tag": "ABX9TyOtIt5/6tNYKSJgyR0QQjkf",
      "include_colab_link": true
    },
    "kernelspec": {
      "name": "python3",
      "display_name": "Python 3"
    },
    "language_info": {
      "name": "python"
    }
  },
  "cells": [
    {
      "cell_type": "markdown",
      "metadata": {
        "id": "view-in-github",
        "colab_type": "text"
      },
      "source": [
        "<a href=\"https://colab.research.google.com/github/YunjiSon/2022spring/blob/main/Tensorflow_Hub.ipynb\" target=\"_parent\"><img src=\"https://colab.research.google.com/assets/colab-badge.svg\" alt=\"Open In Colab\"/></a>"
      ]
    },
    {
      "cell_type": "markdown",
      "source": [
        "##Image classification"
      ],
      "metadata": {
        "id": "X2qa4EJNp9SL"
      }
    },
    {
      "cell_type": "markdown",
      "source": [
        "fine-tuning: AI에 대해 입력벡터, 출력벡터가 있고 중간에 행렬이 있는 것.\n",
        "pretrained된 모델이 있다고 쳤을 때, fine tuning은 그 모델을 좀 확장시켰다. (나의 데이터를 가지고 조금 더 변경시키고, 확장시킨다.)"
      ],
      "metadata": {
        "id": "Dd6R_IahqGZV"
      }
    },
    {
      "cell_type": "code",
      "source": [
        "import tensorflow.compat.v2 as tf\n",
        "import tensorflow_hub as hub"
      ],
      "metadata": {
        "id": "A2FK3lBNqAA_"
      },
      "execution_count": 1,
      "outputs": []
    },
    {
      "cell_type": "code",
      "execution_count": 2,
      "metadata": {
        "id": "Zyli2oTfp6cK"
      },
      "outputs": [],
      "source": [
        "model = hub.KerasLayer(\"https://tfhub.dev/google/imagenet/inception_v3/classification/5\")\n",
        "#inception3에서 만드는것. 모델을 keraslayer라는 걸로 이렇게 가져오는 것."
      ]
    },
    {
      "cell_type": "code",
      "source": [
        "from PIL import Image\n",
        "import requests\n",
        "url = 'http://images.cocodataset.org/val2017/000000039769.jpg'\n",
        "#이미지 가져오기\n",
        "image = Image.open(requests.get(url, stream=True).raw)"
      ],
      "metadata": {
        "id": "-ifNjJhArUuX"
      },
      "execution_count": 10,
      "outputs": []
    },
    {
      "cell_type": "code",
      "source": [
        "import numpy as np\n",
        "image = np.array(image)\n",
        "# reshape into shape [batch_size, height, width, num_channels]\n",
        "image = tf.reshape(image, [1, image.shape[0], image.shape[1], image.shape[2]])\n",
        "#3차원의 array를 reshape로 4차원으로 바꿔주기 이 모델이 4차원을 받아주는 모델이라.\n",
        "# Use `convert_image_dtype` to convert to floats in the [0,1] range.\n",
        "#어두우면 0, 밝으면 1 뭐 이런식으로.\n",
        "image = tf.image.convert_image_dtype(image, tf.float32)"
      ],
      "metadata": {
        "id": "VxESmO87rpny"
      },
      "execution_count": 11,
      "outputs": []
    },
    {
      "cell_type": "code",
      "source": [
        "image[:,:,0]"
      ],
      "metadata": {
        "colab": {
          "base_uri": "https://localhost:8080/"
        },
        "id": "43nwxemysZ2Y",
        "outputId": "5706b9e2-ced5-4591-e27b-b7e2df4c4e9a"
      },
      "execution_count": 8,
      "outputs": [
        {
          "output_type": "execute_result",
          "data": {
            "text/plain": [
              "<tf.Tensor: shape=(1, 480, 3), dtype=float32, numpy=\n",
              "array([[[0.54901963, 0.09803922, 0.21960786],\n",
              "        [0.5411765 , 0.08627451, 0.22352943],\n",
              "        [0.5294118 , 0.08627451, 0.16470589],\n",
              "        ...,\n",
              "        [0.9294118 , 0.3921569 , 0.74509805],\n",
              "        [0.90196085, 0.32941177, 0.86666673],\n",
              "        [0.9333334 , 0.3921569 , 0.6862745 ]]], dtype=float32)>"
            ]
          },
          "metadata": {},
          "execution_count": 8
        }
      ]
    },
    {
      "cell_type": "code",
      "source": [
        "logits = model(image)\n",
        "#여기서 image가 벡터가 되는 것.\n",
        "np.argmax(logits) #몇번째가 제일 높은 값이냐?"
      ],
      "metadata": {
        "colab": {
          "base_uri": "https://localhost:8080/"
        },
        "id": "xWuD3dOsrbar",
        "outputId": "3be44c9a-1273-410b-8e7b-5311038ee046"
      },
      "execution_count": 12,
      "outputs": [
        {
          "output_type": "execute_result",
          "data": {
            "text/plain": [
              "282"
            ]
          },
          "metadata": {},
          "execution_count": 12
        }
      ]
    },
    {
      "cell_type": "markdown",
      "source": [
        "-->inception v3에 있는 데이터들이 1000개 있는데 그거 중에 282번째거가 가장 높다.\n",
        "0번부터니까 엑셀에 적용하면 283번째 찾으면 된다."
      ],
      "metadata": {
        "id": "B8nLTbsHs4hg"
      }
    },
    {
      "cell_type": "code",
      "source": [
        ""
      ],
      "metadata": {
        "id": "La4pi3CrtD4X"
      },
      "execution_count": null,
      "outputs": []
    }
  ]
}