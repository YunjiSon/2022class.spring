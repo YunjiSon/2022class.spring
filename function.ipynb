{
  "nbformat": 4,
  "nbformat_minor": 0,
  "metadata": {
    "colab": {
      "name": "function.ipynb",
      "provenance": [],
      "authorship_tag": "ABX9TyMjocy24NBatPe1i0yF2P52",
      "include_colab_link": true
    },
    "kernelspec": {
      "name": "python3",
      "display_name": "Python 3"
    },
    "language_info": {
      "name": "python"
    }
  },
  "cells": [
    {
      "cell_type": "markdown",
      "metadata": {
        "id": "view-in-github",
        "colab_type": "text"
      },
      "source": [
        "<a href=\"https://colab.research.google.com/github/YunjiSon/2022spring/blob/main/function.ipynb\" target=\"_parent\"><img src=\"https://colab.research.google.com/assets/colab-badge.svg\" alt=\"Open In Colab\"/></a>"
      ]
    },
    {
      "cell_type": "markdown",
      "source": [
        "남들이 만들어 둔 function을 우리가 쓰는 것.\n",
        "우리가 만들 수도 있음. \n",
        "\n"
      ],
      "metadata": {
        "id": "qBMEBH8Jgf0D"
      }
    },
    {
      "cell_type": "code",
      "execution_count": 1,
      "metadata": {
        "id": "TeYs4hwlgdJa"
      },
      "outputs": [],
      "source": [
        "def add(a,b):  #def하고 함수 이름(입력변수) 하고 세미콜론. return하고 출력 변수명\n",
        "  return a+b"
      ]
    },
    {
      "cell_type": "code",
      "source": [
        "def subtract(a,b): #그냥 함수 이름을 c이렇게 해도 되고, 뭐 중간에 c=a+b이런거 해도 됨.\n",
        "  return a-b\n",
        "\n",
        "def multiply(a,b):\n",
        "  return a*b\n",
        "\n",
        "def divide(a,b):\n",
        "  return a/b"
      ],
      "metadata": {
        "id": "S-knVaXQhByu"
      },
      "execution_count": 2,
      "outputs": []
    },
    {
      "cell_type": "code",
      "source": [
        "c = add(1,2); print(c)\n",
        "c = subtract(1,2); print(c)\n",
        "c = multiply(1,2); print(c)\n",
        "c =divide(1,2)\n",
        "c"
      ],
      "metadata": {
        "colab": {
          "base_uri": "https://localhost:8080/"
        },
        "id": "pn6_9o5ghdH5",
        "outputId": "bacc7e74-ff1d-4dc4-beaf-00717bddb20a"
      },
      "execution_count": 3,
      "outputs": [
        {
          "output_type": "stream",
          "name": "stdout",
          "text": [
            "3\n",
            "-1\n",
            "2\n"
          ]
        },
        {
          "output_type": "execute_result",
          "data": {
            "text/plain": [
              "0.5"
            ]
          },
          "metadata": {},
          "execution_count": 3
        }
      ]
    }
  ]
}