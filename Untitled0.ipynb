{
  "nbformat": 4,
  "nbformat_minor": 0,
  "metadata": {
    "colab": {
      "name": "Untitled0.ipynb",
      "provenance": [],
      "authorship_tag": "ABX9TyNfmlk+YkwhX7Xn98kp3KWI",
      "include_colab_link": true
    },
    "kernelspec": {
      "name": "python3",
      "display_name": "Python 3"
    },
    "language_info": {
      "name": "python"
    }
  },
  "cells": [
    {
      "cell_type": "markdown",
      "metadata": {
        "id": "view-in-github",
        "colab_type": "text"
      },
      "source": [
        "<a href=\"https://colab.research.google.com/github/YunjiSon/2022spring/blob/main/Untitled0.ipynb\" target=\"_parent\"><img src=\"https://colab.research.google.com/assets/colab-badge.svg\" alt=\"Open In Colab\"/></a>"
      ]
    },
    {
      "cell_type": "code",
      "execution_count": null,
      "metadata": {
        "id": "TQQPt6HaYlFp"
      },
      "outputs": [],
      "source": [
        "IDE=프로그래밍 환경 > 클라우드에서 코딩 가능하게 됨. \n",
        "데이터는 세가지. 텍스트, 사운드, 이미지. AI로 연결 가능함. \n",
        "input > 함수 > output. 알지? (tts, stt)\n"
      ]
    },
    {
      "cell_type": "markdown",
      "source": [
        "변수, 문법, 함수\n",
        "변수에는 숫자랑 문자밖에 없다.\n",
        "문법은 if나 for 같은 거\n",
        "함수는 입력과 출력으로 나뉘는거\n",
        "패키지 or library. 여러가지 함수같은걸 모아놓은 것."
      ],
      "metadata": {
        "id": "XTGN5hIFaHO1"
      }
    }
  ]
}