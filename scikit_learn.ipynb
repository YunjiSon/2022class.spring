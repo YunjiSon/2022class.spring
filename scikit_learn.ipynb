{
  "nbformat": 4,
  "nbformat_minor": 0,
  "metadata": {
    "colab": {
      "name": "scikit_learn.ipynb",
      "provenance": [],
      "authorship_tag": "ABX9TyO0hsuegsIFCgB0KJehgs7R",
      "include_colab_link": true
    },
    "kernelspec": {
      "name": "python3",
      "display_name": "Python 3"
    },
    "language_info": {
      "name": "python"
    }
  },
  "cells": [
    {
      "cell_type": "markdown",
      "metadata": {
        "id": "view-in-github",
        "colab_type": "text"
      },
      "source": [
        "<a href=\"https://colab.research.google.com/github/YunjiSon/2022spring/blob/main/scikit_learn.ipynb\" target=\"_parent\"><img src=\"https://colab.research.google.com/assets/colab-badge.svg\" alt=\"Open In Colab\"/></a>"
      ]
    },
    {
      "cell_type": "code",
      "execution_count": null,
      "metadata": {
        "id": "PAxMV8sBgJCb"
      },
      "outputs": [],
      "source": [
        ""
      ]
    },
    {
      "cell_type": "markdown",
      "source": [
        "machine learning: 기계학습. 딥러닝이 머신러닝에 속한다.\n",
        "-supervised learning (입출력, 함수 다 있음)\n",
        "  regression: 숫자 > 숫자. 예측\n",
        "  classification 출력이 카테고리가 되는 경우 (스팸 구분)\n",
        "-unsupervised learning\n",
        "  dimensionality 상관관계? (영어 국어 점수 함수 그래프)\n",
        "  clustering 비슷한거 끼리 묶는거\n",
        "scikit_learn"
      ],
      "metadata": {
        "id": "JZgTGFtNgYgC"
      }
    }
  ]
}